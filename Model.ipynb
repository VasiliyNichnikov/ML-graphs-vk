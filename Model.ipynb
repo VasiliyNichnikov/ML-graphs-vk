{
 "cells": [
  {
   "cell_type": "code",
   "execution_count": 1,
   "id": "4d334f96-2a78-420e-aa92-50de1ba8c3b9",
   "metadata": {},
   "outputs": [],
   "source": [
    "import torch_geometric\n",
    "import torch_geometric.nn as nn\n",
    "\n",
    "\n",
    "import torch.nn as nn\n",
    "import torch.optim as optim\n",
    "import pandas as pd\n",
    "import numpy as np"
   ]
  },
  {
   "cell_type": "code",
   "execution_count": 9,
   "id": "0cd1553f-d020-4d7b-9984-7dc2890f04a0",
   "metadata": {},
   "outputs": [],
   "source": [
    "class GCNConv(nn.Module):\n",
    "    def __init__(self, in_features, out_features):\n",
    "        super(GCNConv, self).__init__()\n",
    "        self.linear = nn.Linear(in_features, out_features, bias=False)\n",
    "\n",
    "    def forward(self, x: torch.Tensor, adjacency_hat: torch.sparse_coo_tensor):\n",
    "        x = self.linear(x)\n",
    "        x = torch.sparse.mm(adjacency_hat, x)\n",
    "        return x\n",
    "\n"
   ]
  },
  {
   "cell_type": "code",
   "execution_count": 10,
   "id": "ac3707ae-6f4f-4b54-9d9f-8eb2afd60d3b",
   "metadata": {},
   "outputs": [],
   "source": [
    "class TwoLayerGCN(nn.Module):\n",
    "    def __init__(self, input_size, hidden_size, output_size, dropout=0.1):\n",
    "        super(TwoLayerGCN, self).__init__()\n",
    "\n",
    "        self.conv1 = GCNConv(input_size, hidden_size)\n",
    "        self.conv2 = GCNConv(hidden_size, output_size)\n",
    "        self.relu = nn.ReLU()\n",
    "        self.dropout = nn.Dropout(dropout)\n",
    "\n",
    "    def forward(self, x: torch.Tensor, adjacency_hat: torch.sparse_coo_tensor, labels: torch.Tensor = None):\n",
    "        x = self.dropout(x)\n",
    "        x = self.conv1(x, adjacency_hat)\n",
    "        x = self.relu(x)\n",
    "        x = self.dropout(x)\n",
    "        x = self.conv2(x, adjacency_hat)\n",
    "\n",
    "        if labels is None:\n",
    "            return x\n",
    "\n",
    "        loss = nn.CrossEntropyLoss()(x, labels)\n",
    "        return x, loss\n"
   ]
  },
  {
   "cell_type": "code",
   "execution_count": 11,
   "id": "9baeb48b-8c7d-4777-bbff-4a3f1a574d19",
   "metadata": {},
   "outputs": [],
   "source": [
    "class GCN(nn.Module):\n",
    "    def __init__(self, input_size, hidden_size, output_size, num_hidden_layers=0, dropout=0.1, residual=False):\n",
    "        super(GCN, self).__init__()\n",
    "\n",
    "        self.dropout = dropout\n",
    "        self.residual = residual\n",
    "\n",
    "        self.input_conv = GCNConv(input_size, hidden_size)\n",
    "        self.hidden_convs = nn.ModuleList([GCNConv(hidden_size, hidden_size) for _ in range(num_hidden_layers)])\n",
    "        self.output_conv = GCNConv(hidden_size, output_size)\n",
    "    def forward(self, x: torch.Tensor, adjacency_hat: torch.sparse_coo_tensor, labels: torch.Tensor = None):\n",
    "        x = F.dropout(x, p=self.dropout, training=self.training)\n",
    "        x = F.relu(self.input_conv(x, adjacency_hat))\n",
    "        for conv in self.hidden_convs:\n",
    "            if self.residual:\n",
    "                x = F.relu(conv(x, adjacency_hat)) + x\n",
    "            else:\n",
    "                x = F.relu(conv(x, adjacency_hat))\n",
    "        x = F.dropout(x, p=self.dropout, training=self.training)\n",
    "        x = self.output_conv(x, adjacency_hat)\n",
    "\n",
    "        if labels is None:\n",
    "            return x\n",
    "\n",
    "        loss = nn.CrossEntropyLoss()(x, labels)\n",
    "        return x, loss"
   ]
  },
  {
   "cell_type": "code",
   "execution_count": 4,
   "id": "065c64bd-8b4a-4080-a8e5-93f1b63eaa8c",
   "metadata": {},
   "outputs": [
    {
     "ename": "ModuleNotFoundError",
     "evalue": "No module named 'gcn.model'",
     "output_type": "error",
     "traceback": [
      "\u001b[0;31m---------------------------------------------------------------------------\u001b[0m",
      "\u001b[0;31mModuleNotFoundError\u001b[0m                       Traceback (most recent call last)",
      "Cell \u001b[0;32mIn [4], line 3\u001b[0m\n\u001b[1;32m      1\u001b[0m \u001b[38;5;28;01mimport\u001b[39;00m \u001b[38;5;21;01mtorch\u001b[39;00m\n\u001b[0;32m----> 3\u001b[0m \u001b[38;5;28;01mfrom\u001b[39;00m \u001b[38;5;21;01mgcn\u001b[39;00m\u001b[38;5;21;01m.\u001b[39;00m\u001b[38;5;21;01mmodel\u001b[39;00m \u001b[38;5;28;01mimport\u001b[39;00m TwoLayerGCN\n\u001b[1;32m      4\u001b[0m \u001b[38;5;28;01mfrom\u001b[39;00m \u001b[38;5;21;01mgcn\u001b[39;00m\u001b[38;5;21;01m.\u001b[39;00m\u001b[38;5;21;01mtrainer\u001b[39;00m \u001b[38;5;28;01mimport\u001b[39;00m Trainer, RunConfig\n\u001b[1;32m      5\u001b[0m \u001b[38;5;28;01mfrom\u001b[39;00m \u001b[38;5;21;01mgcn\u001b[39;00m\u001b[38;5;21;01m.\u001b[39;00m\u001b[38;5;21;01mutils\u001b[39;00m \u001b[38;5;28;01mimport\u001b[39;00m Dataset, load_data\n",
      "\u001b[0;31mModuleNotFoundError\u001b[0m: No module named 'gcn.model'"
     ]
    }
   ],
   "source": []
  }
 ],
 "metadata": {
  "kernelspec": {
   "display_name": "Python 3 (ipykernel)",
   "language": "python",
   "name": "python3"
  },
  "language_info": {
   "codemirror_mode": {
    "name": "ipython",
    "version": 3
   },
   "file_extension": ".py",
   "mimetype": "text/x-python",
   "name": "python",
   "nbconvert_exporter": "python",
   "pygments_lexer": "ipython3",
   "version": "3.9.7"
  }
 },
 "nbformat": 4,
 "nbformat_minor": 5
}
