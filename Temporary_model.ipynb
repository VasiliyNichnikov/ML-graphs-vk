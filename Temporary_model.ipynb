{
 "cells": [
  {
   "cell_type": "code",
   "execution_count": 68,
   "id": "4ddb6bb4-25dc-4078-b1bc-f80aaa909b0c",
   "metadata": {},
   "outputs": [],
   "source": [
    "from sklearn.svm import SVC\n",
    "from sklearn.preprocessing import StandardScaler \n",
    "\n",
    "import pandas as pd"
   ]
  },
  {
   "cell_type": "code",
   "execution_count": 69,
   "id": "d82bbc01-8e93-420c-a4f8-fd95abfb110c",
   "metadata": {},
   "outputs": [],
   "source": [
    "df_final_targets_dates_traintest = pd.read_csv(\"data/FINAL_TARGETS_DATES_TRAINTEST.tsv\", sep='\\t')"
   ]
  },
  {
   "cell_type": "code",
   "execution_count": 70,
   "id": "6ea3ce8f-224c-47e1-8546-723fc3e464d6",
   "metadata": {},
   "outputs": [],
   "source": [
    "df_final_targets_dates_traintest = df_final_targets_dates_traintest.drop('RETRO_DT', axis=1)"
   ]
  },
  {
   "cell_type": "code",
   "execution_count": 71,
   "id": "5bad7ee3-99fa-4f98-9802-81f07474d362",
   "metadata": {},
   "outputs": [
    {
     "data": {
      "text/html": [
       "<div>\n",
       "<style scoped>\n",
       "    .dataframe tbody tr th:only-of-type {\n",
       "        vertical-align: middle;\n",
       "    }\n",
       "\n",
       "    .dataframe tbody tr th {\n",
       "        vertical-align: top;\n",
       "    }\n",
       "\n",
       "    .dataframe thead th {\n",
       "        text-align: right;\n",
       "    }\n",
       "</style>\n",
       "<table border=\"1\" class=\"dataframe\">\n",
       "  <thead>\n",
       "    <tr style=\"text-align: right;\">\n",
       "      <th></th>\n",
       "      <th>CLIENT_ID</th>\n",
       "      <th>TARGET</th>\n",
       "    </tr>\n",
       "  </thead>\n",
       "  <tbody>\n",
       "    <tr>\n",
       "      <th>0</th>\n",
       "      <td>1011725</td>\n",
       "      <td>0</td>\n",
       "    </tr>\n",
       "    <tr>\n",
       "      <th>1</th>\n",
       "      <td>1018784</td>\n",
       "      <td>1</td>\n",
       "    </tr>\n",
       "    <tr>\n",
       "      <th>2</th>\n",
       "      <td>1021812</td>\n",
       "      <td>0</td>\n",
       "    </tr>\n",
       "    <tr>\n",
       "      <th>3</th>\n",
       "      <td>1024003</td>\n",
       "      <td>0</td>\n",
       "    </tr>\n",
       "    <tr>\n",
       "      <th>4</th>\n",
       "      <td>1025140</td>\n",
       "      <td>test</td>\n",
       "    </tr>\n",
       "    <tr>\n",
       "      <th>5</th>\n",
       "      <td>1026390</td>\n",
       "      <td>1</td>\n",
       "    </tr>\n",
       "    <tr>\n",
       "      <th>6</th>\n",
       "      <td>1027507</td>\n",
       "      <td>1</td>\n",
       "    </tr>\n",
       "    <tr>\n",
       "      <th>7</th>\n",
       "      <td>1028552</td>\n",
       "      <td>0</td>\n",
       "    </tr>\n",
       "    <tr>\n",
       "      <th>8</th>\n",
       "      <td>1029732</td>\n",
       "      <td>test</td>\n",
       "    </tr>\n",
       "    <tr>\n",
       "      <th>9</th>\n",
       "      <td>1036872</td>\n",
       "      <td>0</td>\n",
       "    </tr>\n",
       "  </tbody>\n",
       "</table>\n",
       "</div>"
      ],
      "text/plain": [
       "   CLIENT_ID TARGET\n",
       "0    1011725      0\n",
       "1    1018784      1\n",
       "2    1021812      0\n",
       "3    1024003      0\n",
       "4    1025140   test\n",
       "5    1026390      1\n",
       "6    1027507      1\n",
       "7    1028552      0\n",
       "8    1029732   test\n",
       "9    1036872      0"
      ]
     },
     "execution_count": 71,
     "metadata": {},
     "output_type": "execute_result"
    }
   ],
   "source": [
    "df_final_targets_dates_traintest.head(10)"
   ]
  },
  {
   "cell_type": "code",
   "execution_count": 72,
   "id": "f7aeef74-90c0-482a-b89c-10a171d4175e",
   "metadata": {},
   "outputs": [],
   "source": [
    "remove_data = []\n",
    "for i in range(len(df_final_targets_dates_traintest['CLIENT_ID'])//3):\n",
    "    if (df_final_targets_dates_traintest['TARGET'][i] == 'test'):\n",
    "        remove_data.append(i)\n",
    "\n",
    "df_final_targets_dates_traintest.drop(remove_data, axis=0, inplace=True)"
   ]
  },
  {
   "cell_type": "code",
   "execution_count": 73,
   "id": "66ecdee0-ee70-41aa-b501-1ac9efbd96fd",
   "metadata": {},
   "outputs": [
    {
     "name": "stdout",
     "output_type": "stream",
     "text": [
      "<class 'pandas.core.frame.DataFrame'>\n"
     ]
    }
   ],
   "source": [
    "df = df_final_targets_dates_traintest[:50]\n",
    "print(type(df))"
   ]
  },
  {
   "cell_type": "code",
   "execution_count": 74,
   "id": "6ab19e2f-bd15-4886-a05f-e452b237f8b4",
   "metadata": {},
   "outputs": [],
   "source": [
    "from sklearn.model_selection import train_test_split"
   ]
  },
  {
   "cell_type": "code",
   "execution_count": 75,
   "id": "eafcfb96-5724-4c7c-a6b3-4d4d21eb7ee1",
   "metadata": {},
   "outputs": [],
   "source": [
    "X = df['CLIENT_ID'].values\n",
    "y = df['TARGET']\n",
    "X.reshape(1, -1)\n",
    "X_train, X_test, y_train, y_test = train_test_split(X, y, random_state=0)"
   ]
  },
  {
   "cell_type": "code",
   "execution_count": 76,
   "id": "6718a4c2-ed0a-4caa-9cb6-53f9502ed05f",
   "metadata": {},
   "outputs": [
    {
     "name": "stdout",
     "output_type": "stream",
     "text": [
      "<class 'numpy.ndarray'>\n"
     ]
    }
   ],
   "source": [
    "print(type(X))"
   ]
  },
  {
   "cell_type": "code",
   "execution_count": 77,
   "id": "b32ab03a-1934-4a43-83e1-91f1dcacb2ca",
   "metadata": {},
   "outputs": [],
   "source": [
    "X = X.reshape(-1, 1)\n",
    "X_test = X_test.reshape(-1, 1)"
   ]
  },
  {
   "cell_type": "code",
   "execution_count": 78,
   "id": "265dd9c1-e74c-4c7f-bcb5-3cae17019bf9",
   "metadata": {},
   "outputs": [],
   "source": [
    "from sklearn.metrics import confusion_matrix\n",
    "from sklearn.metrics import roc_auc_score"
   ]
  },
  {
   "cell_type": "code",
   "execution_count": 84,
   "id": "3601b5e0-88e3-4a54-8f17-b9c0204b6b14",
   "metadata": {},
   "outputs": [],
   "source": [
    "\n",
    "clf=SVC(kernel='linear',probability=True)\n",
    "clf.fit(X,y)\n",
    "clf.predict_proba(X_test)\n",
    "y_true = y_test \n",
    "y_pred = clf.predict(X_test) \n"
   ]
  },
  {
   "cell_type": "code",
   "execution_count": 88,
   "id": "ffefbe9e-616e-4fd2-be82-18a2974d52f5",
   "metadata": {},
   "outputs": [
    {
     "data": {
      "text/plain": [
       "0.5142857142857142"
      ]
     },
     "execution_count": 88,
     "metadata": {},
     "output_type": "execute_result"
    }
   ],
   "source": [
    "roc_auc_score(y, clf.predict_proba(X)[:, 1])"
   ]
  }
 ],
 "metadata": {
  "kernelspec": {
   "display_name": "Python 3 (ipykernel)",
   "language": "python",
   "name": "python3"
  },
  "language_info": {
   "codemirror_mode": {
    "name": "ipython",
    "version": 3
   },
   "file_extension": ".py",
   "mimetype": "text/x-python",
   "name": "python",
   "nbconvert_exporter": "python",
   "pygments_lexer": "ipython3",
   "version": "3.9.7"
  }
 },
 "nbformat": 4,
 "nbformat_minor": 5
}
