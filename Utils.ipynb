{
 "cells": [
  {
   "cell_type": "code",
   "execution_count": 1,
   "id": "59a140e4-eafe-4f4c-a262-b23874e8f5f8",
   "metadata": {},
   "outputs": [],
   "source": [
    "from enum import Enum\n",
    "\n",
    "import numpy as np\n",
    "import scipy.sparse as sparse\n",
    "import torch\n",
    "import torch.nn as nn\n",
    "from torch_geometric.utils import to_scipy_sparse_matrix"
   ]
  },
  {
   "cell_type": "code",
   "execution_count": 3,
   "id": "b0b8d090-1f79-4ec5-9ed7-5132c6d2ed02",
   "metadata": {},
   "outputs": [],
   "source": [
    "def load_data(dataset_name):\n",
    "    dataset = dataset_name\n",
    "    data = dataset[0]  # a single graph\n",
    "\n",
    "    # read & normalize features\n",
    "    features = data.x.clone()\n",
    "    features_sum = features.sum(1).unsqueeze(1)\n",
    "    features_sum[features_sum == 0] = 1.\n",
    "    features = torch.div(features, features_sum)\n",
    "\n",
    "    # read train, test, valid labels based on public splits of this data\n",
    "    ignore_index = nn.CrossEntropyLoss().ignore_index  # = -100, used to ignore not allowed labels in CE loss\n",
    "    num_classes = len(set(data.y.numpy()))\n",
    "    labels = data.y.clone()\n",
    "    train_labels = set_labels(data.y.clone(), data.train_mask, ignore_index)\n",
    "    val_labels = set_labels(data.y.clone(), data.val_mask, ignore_index)\n",
    "    test_labels = set_labels(data.y.clone(), data.test_mask, ignore_index)\n",
    "\n",
    "    # read & normalize adjacency matrix\n",
    "    adjacency_matrix, adj_csr = get_adjacency_matrix(data.edge_index)\n",
    "\n",
    "    # compute rescaled laplacian\n",
    "    laplacian_matrix = get_laplacian_matrix(adj_csr)\n",
    "\n",
    "    return features, labels, train_labels, val_labels, test_labels, adjacency_matrix, laplacian_matrix, num_classes\n",
    "\n",
    "\n",
    "def set_labels(initial_labels, set_mask, ignore_label):\n",
    "    initial_labels[~set_mask] = ignore_label\n",
    "    return initial_labels\n",
    "\n",
    "\n",
    "def get_adjacency_matrix(edge_index):\n",
    "    # working with scipy sparse since current PyTorch version doesn't support sparse x sparse multiplication\n",
    "    adj = to_scipy_sparse_matrix(edge_index)\n",
    "    adj += sparse.eye(adj.shape[0])  # add self loops\n",
    "    degree_for_norm = sparse.diags(np.power(np.array(adj.sum(1)), -0.5).flatten())  # D^(-0.5)\n",
    "    adj_hat_csr = degree_for_norm.dot(adj.dot(degree_for_norm))  # D^(-0.5) * A * D^(-0.5)\n",
    "    adj_hat_coo = adj_hat_csr.tocoo().astype(np.float32)\n",
    "    # to torch sparse matrix\n",
    "    indices = torch.from_numpy(np.vstack((adj_hat_coo.row, adj_hat_coo.col)).astype(np.int64))\n",
    "    values = torch.from_numpy(adj_hat_coo.data)\n",
    "    adjacency_matrix = torch.sparse_coo_tensor(indices, values, torch.Size(adj_hat_coo.shape))\n",
    "\n",
    "    return adjacency_matrix, adj_hat_csr\n",
    "\n",
    "\n",
    "def get_laplacian_matrix(adjacency_matrix_csr: sparse.csr_matrix):\n",
    "    # since adjacency_matrix_csr is already in form D^(-0.5) * A * D^(-0.5), we can simply get normalized laplacian by:\n",
    "    laplacian = sparse.eye(adjacency_matrix_csr.shape[0]) - adjacency_matrix_csr\n",
    "    # rescaling laplacian\n",
    "    max_eigenval = sparse.linalg.eigsh(laplacian, k=1, which='LM', return_eigenvectors=False)[0]\n",
    "    laplacian = 2 * laplacian / max_eigenval - sparse.eye(adjacency_matrix_csr.shape[0])\n",
    "    # to torch sparse matrix\n",
    "    laplacian = laplacian.tocoo().astype(np.float32)\n",
    "    indices = torch.from_numpy(np.vstack((laplacian.row, laplacian.col)).astype(np.int64))\n",
    "    values = torch.from_numpy(laplacian.data)\n",
    "    laplacian_matrix = torch.sparse_coo_tensor(indices, values, torch.Size(laplacian.shape))\n",
    "    return laplacian_matrix"
   ]
  }
 ],
 "metadata": {
  "kernelspec": {
   "display_name": "Python 3 (ipykernel)",
   "language": "python",
   "name": "python3"
  },
  "language_info": {
   "codemirror_mode": {
    "name": "ipython",
    "version": 3
   },
   "file_extension": ".py",
   "mimetype": "text/x-python",
   "name": "python",
   "nbconvert_exporter": "python",
   "pygments_lexer": "ipython3",
   "version": "3.9.7"
  }
 },
 "nbformat": 4,
 "nbformat_minor": 5
}
